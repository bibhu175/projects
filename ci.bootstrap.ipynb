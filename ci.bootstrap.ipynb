{
 "cells": [
  {
   "cell_type": "code",
   "execution_count": 13,
   "metadata": {},
   "outputs": [],
   "source": [
    "import numpy \n",
    "import matplotlib.pyplot as plt\n",
    "from pandas import read_csv\n",
    "from sklearn.utils import resample\n",
    "from sklearn.metrics import accuracy_score"
   ]
  },
  {
   "cell_type": "code",
   "execution_count": 16,
   "metadata": {},
   "outputs": [
    {
     "data": {
      "image/png": "[encoded data removed]",
      "text/plain": [
       "<Figure size 432x288 with 1 Axes>"
      ]
     },
     "metadata": {
      "needs_background": "light"
     },
     "output_type": "display_data"
    },
    {
     "name": "stdout",
     "output_type": "stream",
     "text": [
      "  95f confidence interval  162f and  176f\n"
     ]
    }
   ],
   "source": [
    "x = numpy.array([180,162,158,172,168,150,171,183,165,176])\n",
    "n_iterations  = 1000\n",
    "n_size = int(len(x))\n",
    "medians = list()\n",
    "for i in range (n_iterations):\n",
    "    s =resample(x,n_samples=n_size)\n",
    "    m = numpy.median(s)\n",
    "    medians.append(m)\n",
    "    \n",
    "    \n",
    "plt.hist(medians)\n",
    "plt.show()\n",
    "\n",
    "alpha = 0.95\n",
    "p = ((1.0-alpha)/2.0)*100\n",
    "lower = numpy.percentile(medians,p)\n",
    "\n",
    "p = (alpha+((1.0-alpha)/2.0))*100\n",
    "upper = numpy.percentile(medians,p)\n",
    "print(\" % if confidence interval % if and % if\" %  (alpha*100,lower,upper))"
   ]
  },
  {
   "cell_type": "code",
   "execution_count": null,
   "metadata": {},
   "outputs": [],
   "source": []
  },
  {
   "cell_type": "code",
   "execution_count": null,
   "metadata": {},
   "outputs": [],
   "source": []
  }
 ],
 "metadata": {
  "kernelspec": {
   "display_name": "Python 3",
   "language": "python",
   "name": "python3"
  },
  "language_info": {
   "codemirror_mode": {
    "name": "ipython",
    "version": 3
   },
   "file_extension": ".py",
   "mimetype": "text/x-python",
   "name": "python",
   "nbconvert_exporter": "python",
   "pygments_lexer": "ipython3",
   "version": "3.7.3"
  }
 },
 "nbformat": 4,
 "nbformat_minor": 4
}
