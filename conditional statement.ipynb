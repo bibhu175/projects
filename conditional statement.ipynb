{
 "cells": [
  {
   "cell_type": "code",
   "execution_count": 1,
   "metadata": {},
   "outputs": [
    {
     "ename": "SyntaxError",
     "evalue": "invalid syntax (main.py, line 41)",
     "output_type": "error",
     "traceback": [
      "Traceback \u001b[1;36m(most recent call last)\u001b[0m:\n",
      "  File \u001b[0;32m\"c:\\users\\bibhuti\\appdata\\local\\programs\\python\\python37\\lib\\site-packages\\IPython\\core\\interactiveshell.py\"\u001b[0m, line \u001b[0;32m3296\u001b[0m, in \u001b[0;35mrun_code\u001b[0m\n    exec(code_obj, self.user_global_ns, self.user_ns)\n",
      "\u001b[1;36m  File \u001b[1;32m\"<ipython-input-1-105b118af492>\"\u001b[1;36m, line \u001b[1;32m1\u001b[1;36m, in \u001b[1;35m<module>\u001b[1;36m\u001b[0m\n\u001b[1;33m    import main\u001b[0m\n",
      "\u001b[1;36m  File \u001b[1;32m\"C:\\Users\\BIBHUTI\\main.py\"\u001b[1;36m, line \u001b[1;32m41\u001b[0m\n\u001b[1;33m    print(a+'' b)\u001b[0m\n\u001b[1;37m               ^\u001b[0m\n\u001b[1;31mSyntaxError\u001b[0m\u001b[1;31m:\u001b[0m invalid syntax\n"
     ]
    }
   ],
   "source": [
    "import main\n",
    "main.message()"
   ]
  },
  {
   "cell_type": "code",
   "execution_count": 7,
   "metadata": {},
   "outputs": [
    {
     "ename": "SyntaxError",
     "evalue": "invalid syntax (main.py, line 41)",
     "output_type": "error",
     "traceback": [
      "Traceback \u001b[1;36m(most recent call last)\u001b[0m:\n",
      "  File \u001b[0;32m\"c:\\users\\bibhuti\\appdata\\local\\programs\\python\\python37\\lib\\site-packages\\IPython\\core\\interactiveshell.py\"\u001b[0m, line \u001b[0;32m3296\u001b[0m, in \u001b[0;35mrun_code\u001b[0m\n    exec(code_obj, self.user_global_ns, self.user_ns)\n",
      "\u001b[1;36m  File \u001b[1;32m\"<ipython-input-7-c7ff87d660e6>\"\u001b[1;36m, line \u001b[1;32m1\u001b[1;36m, in \u001b[1;35m<module>\u001b[1;36m\u001b[0m\n\u001b[1;33m    from main import *\u001b[0m\n",
      "\u001b[1;36m  File \u001b[1;32m\"C:\\Users\\BIBHUTI\\main.py\"\u001b[1;36m, line \u001b[1;32m41\u001b[0m\n\u001b[1;33m    print(a+'' b)\u001b[0m\n\u001b[1;37m               ^\u001b[0m\n\u001b[1;31mSyntaxError\u001b[0m\u001b[1;31m:\u001b[0m invalid syntax\n"
     ]
    }
   ],
   "source": [
    "from main import *\n",
    "var4=div(49,9)\n",
    "print(var4)\n"
   ]
  },
  {
   "cell_type": "code",
   "execution_count": 21,
   "metadata": {},
   "outputs": [
    {
     "name": "stdout",
     "output_type": "stream",
     "text": [
      "please enter your name:bibhuti\n",
      "how old are you bibhuti? 15\n",
      "15\n",
      "Not Eligible & come after3 years\n"
     ]
    }
   ],
   "source": [
    "name=input(\"please enter your name:\")\n",
    "age=int(input(\"how old are you {0}? \"  .format(name)))\n",
    "print(age)\n",
    "if age>=18:\n",
    "    print(\"Eligible\")\n",
    "else:\n",
    "    print('Not Eligible & come after{} years'.format(18-age))"
   ]
  },
  {
   "cell_type": "code",
   "execution_count": null,
   "metadata": {},
   "outputs": [],
   "source": [
    "print('please guess a number b/w 1 to 10')\n",
    "guess=int(input())\n",
    "if guess<5:\n",
    "    print('please guess higher')\n",
    "    guess=int(input())\n",
    "    if guess==5:\n",
    "        print('welldone,you are correct')\n",
    "    else:\n",
    "        print('sorry, you are not correct')\n",
    "elif guess>5:\n",
    "    print('please guess lower')\n",
    "    guess=int(input())\n",
    "    if guess==5:\n",
    "        print('welldone,you are correct')\n",
    "    else:\n",
    "        print('sorry, you are not correct')\n",
    "else: \n",
    "     print('you got it first time')\n",
    "                        "
   ]
  },
  {
   "cell_type": "code",
   "execution_count": 3,
   "metadata": {},
   "outputs": [
    {
     "name": "stdout",
     "output_type": "stream",
     "text": [
      "please guess a number b/w 1 to 10\n",
      "2\n",
      "please guess higher\n",
      "3\n",
      "sorry, you are not correct\n"
     ]
    }
   ],
   "source": [
    "print('please guess a number b/w 1 to 10')\n",
    "guess=int(input())\n",
    "\n",
    "if guess<5:\n",
    "    print('please guess higher')\n",
    "    \n",
    "    guess=int(input())\n",
    "    if guess==5:\n",
    "        print('welldone,you are correct')\n",
    "    else:\n",
    "        print('sorry, you are not correct')\n",
    "elif guess>5:\n",
    "    print('please guess lower')\n",
    "    \n",
    "    guess=int(input())\n",
    "    if guess==5:\n",
    "        print('welldone,you are correct')\n",
    "    else:\n",
    "        print('sorry, you are not correct')\n",
    "        \n",
    "else: \n",
    "     print('you got it first time')"
   ]
  },
  {
   "cell_type": "code",
   "execution_count": 2,
   "metadata": {},
   "outputs": [
    {
     "name": "stdout",
     "output_type": "stream",
     "text": [
      "0.625\n"
     ]
    }
   ],
   "source": [
    "print(5/8)"
   ]
  },
  {
   "cell_type": "code",
   "execution_count": 7,
   "metadata": {},
   "outputs": [
    {
     "name": "stdout",
     "output_type": "stream",
     "text": [
      "enter a no b/w 1 to 10\n",
      "-1\n",
      "zero\n"
     ]
    }
   ],
   "source": [
    "print('enter a no b/w 1 to 10')\n",
    "number=int(input())\n",
    "if number>=1:\n",
    "    print('correct no.')\n",
    "else:\n",
    "    print('zero')"
   ]
  },
  {
   "cell_type": "code",
   "execution_count": 10,
   "metadata": {},
   "outputs": [
    {
     "name": "stdout",
     "output_type": "stream",
     "text": [
      "please enter your name:\n",
      "bibhuti\n",
      "please enter your name:\n",
      "sam\n",
      "please enter your name:\n",
      "ram\n",
      "please enter your name:\n",
      "Ram\n",
      "Thank You Ram\n"
     ]
    }
   ],
   "source": [
    "name='Ram'\n",
    "while True:\n",
    "    print('please enter your name:')\n",
    "    name1=input()\n",
    "    if name1==name:\n",
    "        break\n",
    "print('Thank You', name)"
   ]
  },
  {
   "cell_type": "code",
   "execution_count": null,
   "metadata": {},
   "outputs": [],
   "source": [
    "while True:\n",
    "    print(\"who are you\")\n",
    "    name=input()\n",
    "    if name !='Ram':\n",
    "        continue\n",
    "        \n",
    "    print(\"Hello Ram. What is your password 'It is a Fish'\")\n",
    "    password = input()\n",
    "    if password==\"SwordFish\":\n",
    "        break\n",
    "print(\"Congrats!!!, Access Granted\")\n",
    "            "
   ]
  },
  {
   "cell_type": "code",
   "execution_count": null,
   "metadata": {},
   "outputs": [],
   "source": []
  }
 ],
 "metadata": {
  "kernelspec": {
   "display_name": "Python 3",
   "language": "python",
   "name": "python3"
  },
  "language_info": {
   "codemirror_mode": {
    "name": "ipython",
    "version": 3
   },
   "file_extension": ".py",
   "mimetype": "text/x-python",
   "name": "python",
   "nbconvert_exporter": "python",
   "pygments_lexer": "ipython3",
   "version": "3.7.3"
  }
 },
 "nbformat": 4,
 "nbformat_minor": 2
}
