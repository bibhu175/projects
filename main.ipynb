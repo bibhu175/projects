{
 "cells": [
  {
   "cell_type": "code",
   "execution_count": 2,
   "metadata": {},
   "outputs": [
    {
     "name": "stdout",
     "output_type": "stream",
     "text": [
      "3.142857142857143\n"
     ]
    }
   ],
   "source": [
    "print(22/7)"
   ]
  },
  {
   "cell_type": "code",
   "execution_count": null,
   "metadata": {},
   "outputs": [],
   "source": []
  },
  {
   "cell_type": "code",
   "execution_count": 3,
   "metadata": {},
   "outputs": [
    {
     "name": "stdout",
     "output_type": "stream",
     "text": [
      "3\n"
     ]
    }
   ],
   "source": [
    "print(22//7)"
   ]
  },
  {
   "cell_type": "code",
   "execution_count": 4,
   "metadata": {},
   "outputs": [
    {
     "ename": "NameError",
     "evalue": "name 'bibhuti' is not defined",
     "output_type": "error",
     "traceback": [
      "\u001b[1;31m---------------------------------------------------------------------------\u001b[0m",
      "\u001b[1;31mNameError\u001b[0m                                 Traceback (most recent call last)",
      "\u001b[1;32m<ipython-input-4-c1ca8bb1cbfb>\u001b[0m in \u001b[0;36m<module>\u001b[1;34m\u001b[0m\n\u001b[1;32m----> 1\u001b[1;33m \u001b[0ma\u001b[0m\u001b[1;33m=\u001b[0m\u001b[0mbibhuti\u001b[0m\u001b[1;33m\u001b[0m\u001b[1;33m\u001b[0m\u001b[0m\n\u001b[0m\u001b[0;32m      2\u001b[0m \u001b[0mb\u001b[0m\u001b[1;33m=\u001b[0m\u001b[0mswain\u001b[0m\u001b[1;33m\u001b[0m\u001b[1;33m\u001b[0m\u001b[0m\n\u001b[0;32m      3\u001b[0m \u001b[0mprint\u001b[0m\u001b[1;33m(\u001b[0m\u001b[0ma\u001b[0m\u001b[1;33m+\u001b[0m\u001b[0mb\u001b[0m\u001b[1;33m)\u001b[0m\u001b[1;33m\u001b[0m\u001b[1;33m\u001b[0m\u001b[0m\n",
      "\u001b[1;31mNameError\u001b[0m: name 'bibhuti' is not defined"
     ]
    }
   ],
   "source": [
    "a=bibhuti\n",
    "b=swain\n",
    "print(a+b)"
   ]
  },
  {
   "cell_type": "code",
   "execution_count": 5,
   "metadata": {},
   "outputs": [
    {
     "name": "stdout",
     "output_type": "stream",
     "text": [
      "bibhutiswain\n"
     ]
    }
   ],
   "source": [
    "a='bibhuti'\n",
    "b='swain'\n",
    "print(a+b)"
   ]
  },
  {
   "cell_type": "code",
   "execution_count": 6,
   "metadata": {},
   "outputs": [
    {
     "name": "stdout",
     "output_type": "stream",
     "text": [
      "bibhutiswain\n"
     ]
    }
   ],
   "source": [
    "print(a+ b)"
   ]
  },
  {
   "cell_type": "code",
   "execution_count": 7,
   "metadata": {},
   "outputs": [
    {
     "ename": "SyntaxError",
     "evalue": "invalid syntax (<ipython-input-7-4b08dcb93a34>, line 1)",
     "output_type": "error",
     "traceback": [
      "\u001b[1;36m  File \u001b[1;32m\"<ipython-input-7-4b08dcb93a34>\"\u001b[1;36m, line \u001b[1;32m1\u001b[0m\n\u001b[1;33m    print(a+'' b)\u001b[0m\n\u001b[1;37m               ^\u001b[0m\n\u001b[1;31mSyntaxError\u001b[0m\u001b[1;31m:\u001b[0m invalid syntax\n"
     ]
    }
   ],
   "source": [
    "print(a+'' b)"
   ]
  },
  {
   "cell_type": "code",
   "execution_count": 8,
   "metadata": {},
   "outputs": [
    {
     "name": "stdout",
     "output_type": "stream",
     "text": [
      "bibhutiswain\n"
     ]
    }
   ],
   "source": [
    "print(a+''+b)"
   ]
  },
  {
   "cell_type": "code",
   "execution_count": 9,
   "metadata": {},
   "outputs": [
    {
     "name": "stdout",
     "output_type": "stream",
     "text": [
      "bibhutiswain\n"
     ]
    }
   ],
   "source": [
    "print(a+ '' +b)"
   ]
  },
  {
   "cell_type": "code",
   "execution_count": 10,
   "metadata": {},
   "outputs": [
    {
     "name": "stdout",
     "output_type": "stream",
     "text": [
      "bibhutiswain\n"
     ]
    }
   ],
   "source": [
    "print(a + '' +b)"
   ]
  },
  {
   "cell_type": "code",
   "execution_count": 11,
   "metadata": {},
   "outputs": [
    {
     "name": "stdout",
     "output_type": "stream",
     "text": [
      "ab\n"
     ]
    }
   ],
   "source": [
    "print('a' + 'b')"
   ]
  },
  {
   "cell_type": "code",
   "execution_count": 14,
   "metadata": {},
   "outputs": [
    {
     "name": "stdout",
     "output_type": "stream",
     "text": [
      "enter the value of var2:10\n",
      "enter the value of var3:5\n",
      "15\n"
     ]
    }
   ],
   "source": [
    "var2=int(input('enter the value of var2:'))\n",
    "var3=int(input('enter the value of var3:'))\n",
    "print(var2+var3)"
   ]
  },
  {
   "cell_type": "code",
   "execution_count": 15,
   "metadata": {},
   "outputs": [
    {
     "name": "stdout",
     "output_type": "stream",
     "text": [
      "hello,bibhuti\n"
     ]
    }
   ],
   "source": [
    "var1='hello'\n",
    "var2='bibhuti'\n",
    "message=var1+','+var2\n",
    "print(message)"
   ]
  },
  {
   "cell_type": "code",
   "execution_count": 16,
   "metadata": {},
   "outputs": [
    {
     "ename": "SyntaxError",
     "evalue": "invalid syntax (<ipython-input-16-d2f8caf3e537>, line 1)",
     "output_type": "error",
     "traceback": [
      "\u001b[1;36m  File \u001b[1;32m\"<ipython-input-16-d2f8caf3e537>\"\u001b[1;36m, line \u001b[1;32m1\u001b[0m\n\u001b[1;33m    for i=0,i<20,i++\u001b[0m\n\u001b[1;37m         ^\u001b[0m\n\u001b[1;31mSyntaxError\u001b[0m\u001b[1;31m:\u001b[0m invalid syntax\n"
     ]
    }
   ],
   "source": [
    "for i=0,i<20,i++\n",
    "print(i)"
   ]
  },
  {
   "cell_type": "code",
   "execution_count": 20,
   "metadata": {},
   "outputs": [
    {
     "ename": "IndentationError",
     "evalue": "expected an indented block (<ipython-input-20-7133e14a7fba>, line 2)",
     "output_type": "error",
     "traceback": [
      "\u001b[1;36m  File \u001b[1;32m\"<ipython-input-20-7133e14a7fba>\"\u001b[1;36m, line \u001b[1;32m2\u001b[0m\n\u001b[1;33m    print(\"value of I\"+ str(i))\u001b[0m\n\u001b[1;37m        ^\u001b[0m\n\u001b[1;31mIndentationError\u001b[0m\u001b[1;31m:\u001b[0m expected an indented block\n"
     ]
    }
   ],
   "source": [
    "for i in range(1,12):\n",
    "print(\"value of I\"+ str(i))"
   ]
  },
  {
   "cell_type": "code",
   "execution_count": 28,
   "metadata": {},
   "outputs": [
    {
     "name": "stdout",
     "output_type": "stream",
     "text": [
      "value of I1\n",
      "value of I2\n",
      "value of I3\n",
      "value of I4\n",
      "value of I5\n",
      "value of I6\n",
      "value of I7\n",
      "value of I8\n",
      "value of I9\n",
      "value of I10\n",
      "value of I11\n"
     ]
    }
   ],
   "source": [
    "for i in range(1,12):\n",
    "    print(\"value of I\"  +   str(i))"
   ]
  },
  {
   "cell_type": "code",
   "execution_count": 31,
   "metadata": {},
   "outputs": [
    {
     "name": "stdout",
     "output_type": "stream",
     "text": [
      "No 1 suare is 1 and cube is 1 \n",
      "for loop complete***\n",
      "No 2 suare is 4 and cube is 8 \n",
      "for loop complete***\n",
      "No 3 suare is 9 and cube is 27 \n",
      "for loop complete***\n",
      "No 4 suare is 16 and cube is 64 \n",
      "for loop complete***\n",
      "No 5 suare is 25 and cube is 125 \n",
      "for loop complete***\n",
      "No 6 suare is 36 and cube is 216 \n",
      "for loop complete***\n",
      "No 7 suare is 49 and cube is 343 \n",
      "for loop complete***\n",
      "No 8 suare is 64 and cube is 512 \n",
      "for loop complete***\n",
      "No 9 suare is 81 and cube is 729 \n",
      "for loop complete***\n",
      "No 10 suare is 100 and cube is 1000 \n",
      "for loop complete***\n",
      "No 11 suare is 121 and cube is 1331 \n",
      "for loop complete***\n",
      "No 12 suare is 144 and cube is 1728 \n",
      "for loop complete***\n",
      "No 13 suare is 169 and cube is 2197 \n",
      "for loop complete***\n",
      "No 14 suare is 196 and cube is 2744 \n",
      "for loop complete***\n",
      "No 15 suare is 225 and cube is 3375 \n",
      "for loop complete***\n",
      "No 16 suare is 256 and cube is 4096 \n",
      "for loop complete***\n",
      "No 17 suare is 289 and cube is 4913 \n",
      "for loop complete***\n",
      "No 18 suare is 324 and cube is 5832 \n",
      "for loop complete***\n",
      "No 19 suare is 361 and cube is 6859 \n",
      "for loop complete***\n",
      "No 20 suare is 400 and cube is 8000 \n",
      "for loop complete***\n",
      "No 21 suare is 441 and cube is 9261 \n",
      "for loop complete***\n",
      "No 22 suare is 484 and cube is 10648 \n",
      "for loop complete***\n",
      "No 23 suare is 529 and cube is 12167 \n",
      "for loop complete***\n",
      "No 24 suare is 576 and cube is 13824 \n",
      "for loop complete***\n",
      "No 25 suare is 625 and cube is 15625 \n",
      "for loop complete***\n",
      "No 26 suare is 676 and cube is 17576 \n",
      "for loop complete***\n",
      "No 27 suare is 729 and cube is 19683 \n",
      "for loop complete***\n",
      "No 28 suare is 784 and cube is 21952 \n",
      "for loop complete***\n",
      "No 29 suare is 841 and cube is 24389 \n",
      "for loop complete***\n",
      "No 30 suare is 900 and cube is 27000 \n",
      "for loop complete***\n",
      "No 31 suare is 961 and cube is 29791 \n",
      "for loop complete***\n",
      "No 32 suare is 1024 and cube is 32768 \n",
      "for loop complete***\n",
      "No 33 suare is 1089 and cube is 35937 \n",
      "for loop complete***\n",
      "No 34 suare is 1156 and cube is 39304 \n",
      "for loop complete***\n",
      "No 35 suare is 1225 and cube is 42875 \n",
      "for loop complete***\n",
      "No 36 suare is 1296 and cube is 46656 \n",
      "for loop complete***\n",
      "No 37 suare is 1369 and cube is 50653 \n",
      "for loop complete***\n",
      "No 38 suare is 1444 and cube is 54872 \n",
      "for loop complete***\n",
      "No 39 suare is 1521 and cube is 59319 \n",
      "for loop complete***\n",
      "No 40 suare is 1600 and cube is 64000 \n",
      "for loop complete***\n",
      "No 41 suare is 1681 and cube is 68921 \n",
      "for loop complete***\n",
      "No 42 suare is 1764 and cube is 74088 \n",
      "for loop complete***\n",
      "No 43 suare is 1849 and cube is 79507 \n",
      "for loop complete***\n",
      "No 44 suare is 1936 and cube is 85184 \n",
      "for loop complete***\n",
      "No 45 suare is 2025 and cube is 91125 \n",
      "for loop complete***\n",
      "No 46 suare is 2116 and cube is 97336 \n",
      "for loop complete***\n",
      "No 47 suare is 2209 and cube is 103823 \n",
      "for loop complete***\n",
      "No 48 suare is 2304 and cube is 110592 \n",
      "for loop complete***\n",
      "No 49 suare is 2401 and cube is 117649 \n",
      "for loop complete***\n"
     ]
    }
   ],
   "source": [
    "for var1 in range(1,50):\n",
    "    print(\"No {} suare is {} and cube is {} \" .format(var1,var1**2,var1**3))\n",
    "    print(\"for loop complete***\")"
   ]
  },
  {
   "cell_type": "code",
   "execution_count": 1,
   "metadata": {},
   "outputs": [
    {
     "name": "stdout",
     "output_type": "stream",
     "text": [
      "division = 5.444444444444445\n"
     ]
    }
   ],
   "source": [
    "def div(var1,var2):\n",
    "    var3=var1/var2\n",
    "    return var3\n",
    "var4=div(49,9)\n",
    "print(\"division =\",var4)"
   ]
  },
  {
   "cell_type": "code",
   "execution_count": 1,
   "metadata": {},
   "outputs": [],
   "source": [
    "*warning?"
   ]
  }
 ],
 "metadata": {
  "kernelspec": {
   "display_name": "Python 3",
   "language": "python",
   "name": "python3"
  },
  "language_info": {
   "codemirror_mode": {
    "name": "ipython",
    "version": 3
   },
   "file_extension": ".py",
   "mimetype": "text/x-python",
   "name": "python",
   "nbconvert_exporter": "python",
   "pygments_lexer": "ipython3",
   "version": "3.6.5"
  }
 },
 "nbformat": 4,
 "nbformat_minor": 2
}
