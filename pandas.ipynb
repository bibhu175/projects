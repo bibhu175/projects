{
 "cells": [
  {
   "cell_type": "code",
   "execution_count": 4,
   "metadata": {},
   "outputs": [
    {
     "data": {
      "text/plain": [
       "0     4\n",
       "1     5\n",
       "2     7\n",
       "3     8\n",
       "4     3\n",
       "5    34\n",
       "6    23\n",
       "7    67\n",
       "dtype: int64"
      ]
     },
     "execution_count": 4,
     "metadata": {},
     "output_type": "execute_result"
    }
   ],
   "source": [
    "import pandas as pd\n",
    "Loterry=[4,5,7,8,3,34,23,67]\n",
    "pd.Series(Loterry)\n"
   ]
  },
  {
   "cell_type": "code",
   "execution_count": null,
   "metadata": {},
   "outputs": [],
   "source": []
  },
  {
   "cell_type": "code",
   "execution_count": null,
   "metadata": {},
   "outputs": [],
   "source": []
  },
  {
   "cell_type": "code",
   "execution_count": 16,
   "metadata": {
    "scrolled": true
   },
   "outputs": [
    {
     "data": {
      "text/plain": [
       "mon      apple\n",
       "tue     banana\n",
       "wed     grapes\n",
       "thus    orange\n",
       "dtype: object"
      ]
     },
     "execution_count": 16,
     "metadata": {},
     "output_type": "execute_result"
    }
   ],
   "source": [
    "fruits=['apple','banana','grapes','orange']\n",
    "days=['mon','tue','wed','thus']\n",
    "\n",
    "pd.Series(fruits,days)"
   ]
  },
  {
   "cell_type": "code",
   "execution_count": 29,
   "metadata": {},
   "outputs": [
    {
     "data": {
      "text/plain": [
       "0        Baby Food\n",
       "1           Snacks\n",
       "2        Beverages\n",
       "3           Cereal\n",
       "4           Snacks\n",
       "5    Personal Care\n",
       "6          Clothes\n",
       "7          Clothes\n",
       "8          Clothes\n",
       "9        Baby Food\n",
       "Name: Item Type, dtype: object"
      ]
     },
     "execution_count": 29,
     "metadata": {},
     "output_type": "execute_result"
    }
   ],
   "source": [
    "sale=pd.read_csv(\"sale.csv\",squeeze=True,usecols=['Item Type'])\n",
    "sale.head()\n",
    "sale.head(10)"
   ]
  },
  {
   "cell_type": "code",
   "execution_count": 31,
   "metadata": {},
   "outputs": [
    {
     "data": {
      "text/plain": [
       "RangeIndex(start=0, stop=5000, step=1)"
      ]
     },
     "execution_count": 31,
     "metadata": {},
     "output_type": "execute_result"
    }
   ],
   "source": [
    "sale.values\n",
    "sale.index"
   ]
  },
  {
   "cell_type": "code",
   "execution_count": 44,
   "metadata": {},
   "outputs": [
    {
     "data": {
      "text/plain": [
       "4999    Vegetables\n",
       "2240    Vegetables\n",
       "3202    Vegetables\n",
       "3930    Vegetables\n",
       "2603    Vegetables\n",
       "2591    Vegetables\n",
       "4578    Vegetables\n",
       "4580    Vegetables\n",
       "2582    Vegetables\n",
       "2363    Vegetables\n",
       "2679    Vegetables\n",
       "2550    Vegetables\n",
       "2475    Vegetables\n",
       "2494    Vegetables\n",
       "2454    Vegetables\n",
       "2449    Vegetables\n",
       "2412    Vegetables\n",
       "2389    Vegetables\n",
       "4605    Vegetables\n",
       "2383    Vegetables\n",
       "2369    Vegetables\n",
       "2547    Vegetables\n",
       "2492    Vegetables\n",
       "4570    Vegetables\n",
       "4563    Vegetables\n",
       "2196    Vegetables\n",
       "2311    Vegetables\n",
       "2328    Vegetables\n",
       "2309    Vegetables\n",
       "2296    Vegetables\n",
       "           ...    \n",
       "2736     Baby Food\n",
       "2787     Baby Food\n",
       "630      Baby Food\n",
       "627      Baby Food\n",
       "559      Baby Food\n",
       "2259     Baby Food\n",
       "2766     Baby Food\n",
       "1182     Baby Food\n",
       "4564     Baby Food\n",
       "2646     Baby Food\n",
       "606      Baby Food\n",
       "2555     Baby Food\n",
       "4583     Baby Food\n",
       "4582     Baby Food\n",
       "2751     Baby Food\n",
       "556      Baby Food\n",
       "2564     Baby Food\n",
       "2578     Baby Food\n",
       "605      Baby Food\n",
       "4571     Baby Food\n",
       "2580     Baby Food\n",
       "4579     Baby Food\n",
       "2587     Baby Food\n",
       "2588     Baby Food\n",
       "2606     Baby Food\n",
       "2609     Baby Food\n",
       "1256     Baby Food\n",
       "4573     Baby Food\n",
       "609      Baby Food\n",
       "0        Baby Food\n",
       "Name: Item Type, Length: 5000, dtype: object"
      ]
     },
     "execution_count": 44,
     "metadata": {},
     "output_type": "execute_result"
    }
   ],
   "source": [
    "sale.is_unique\n",
    "sale.ndim\n",
    "sale.sort_values(ascending =False)"
   ]
  },
  {
   "cell_type": "code",
   "execution_count": 42,
   "metadata": {},
   "outputs": [
    {
     "data": {
      "text/plain": [
       "4999    Vegetables\n",
       "520     Vegetables\n",
       "563     Vegetables\n",
       "101     Vegetables\n",
       "573     Vegetables\n",
       "4888    Vegetables\n",
       "580     Vegetables\n",
       "786     Vegetables\n",
       "592     Vegetables\n",
       "674     Vegetables\n",
       "524     Vegetables\n",
       "4880    Vegetables\n",
       "734     Vegetables\n",
       "683     Vegetables\n",
       "4867    Vegetables\n",
       "751     Vegetables\n",
       "753     Vegetables\n",
       "759     Vegetables\n",
       "4860    Vegetables\n",
       "775     Vegetables\n",
       "657     Vegetables\n",
       "1494    Vegetables\n",
       "702     Vegetables\n",
       "835     Vegetables\n",
       "532     Vegetables\n",
       "2202    Vegetables\n",
       "844     Vegetables\n",
       "510     Vegetables\n",
       "888     Vegetables\n",
       "914     Vegetables\n",
       "           ...    \n",
       "3473     Baby Food\n",
       "891      Baby Food\n",
       "890      Baby Food\n",
       "4287     Baby Food\n",
       "1805     Baby Food\n",
       "2099     Baby Food\n",
       "2059     Baby Food\n",
       "1936     Baby Food\n",
       "1929     Baby Food\n",
       "4677     Baby Food\n",
       "1901     Baby Food\n",
       "1799     Baby Food\n",
       "4836     Baby Food\n",
       "1793     Baby Food\n",
       "4835     Baby Food\n",
       "3332     Baby Food\n",
       "1789     Baby Food\n",
       "1786     Baby Food\n",
       "1773     Baby Food\n",
       "1766     Baby Food\n",
       "929      Baby Food\n",
       "1748     Baby Food\n",
       "936      Baby Food\n",
       "1721     Baby Food\n",
       "1703     Baby Food\n",
       "1696     Baby Food\n",
       "955      Baby Food\n",
       "1156     Baby Food\n",
       "921      Baby Food\n",
       "0        Baby Food\n",
       "Name: Item Type, Length: 5000, dtype: object"
      ]
     },
     "execution_count": 42,
     "metadata": {},
     "output_type": "execute_result"
    }
   ],
   "source": [
    "sale.sort_values(ascending = False,inplace=True)\n",
    "sale"
   ]
  },
  {
   "cell_type": "code",
   "execution_count": 45,
   "metadata": {},
   "outputs": [
    {
     "data": {
      "text/plain": [
       "4999    Vegetables\n",
       "520     Vegetables\n",
       "563     Vegetables\n",
       "101     Vegetables\n",
       "573     Vegetables\n",
       "Name: Item Type, dtype: object"
      ]
     },
     "execution_count": 45,
     "metadata": {},
     "output_type": "execute_result"
    }
   ],
   "source": [
    "sale.head(5)"
   ]
  },
  {
   "cell_type": "code",
   "execution_count": 48,
   "metadata": {},
   "outputs": [
    {
     "data": {
      "text/plain": [
       "4999    Vegetables\n",
       "4998       Clothes\n",
       "4997     Baby Food\n",
       "4996       Clothes\n",
       "4995     Household\n",
       "Name: Item Type, dtype: object"
      ]
     },
     "execution_count": 48,
     "metadata": {},
     "output_type": "execute_result"
    }
   ],
   "source": [
    "sale.sort_index(ascending=False,inplace=True)\n",
    "sale.head(5)"
   ]
  },
  {
   "cell_type": "code",
   "execution_count": 42,
   "metadata": {
    "scrolled": true
   },
   "outputs": [
    {
     "data": {
      "text/html": [
       "<div>\n",
       "<style scoped>\n",
       "    .dataframe tbody tr th:only-of-type {\n",
       "        vertical-align: middle;\n",
       "    }\n",
       "\n",
       "    .dataframe tbody tr th {\n",
       "        vertical-align: top;\n",
       "    }\n",
       "\n",
       "    .dataframe thead th {\n",
       "        text-align: right;\n",
       "    }\n",
       "</style>\n",
       "<table border=\"1\" class=\"dataframe\">\n",
       "  <thead>\n",
       "    <tr style=\"text-align: right;\">\n",
       "      <th></th>\n",
       "      <th>Country</th>\n",
       "      <th>Item Type</th>\n",
       "      <th>Sales Channel</th>\n",
       "      <th>Order Priority</th>\n",
       "      <th>Order Date</th>\n",
       "      <th>Order ID</th>\n",
       "      <th>Ship Date</th>\n",
       "      <th>Units Sold</th>\n",
       "      <th>Unit Price</th>\n",
       "      <th>Unit Cost</th>\n",
       "      <th>Total Revenue</th>\n",
       "      <th>Total Cost</th>\n",
       "      <th>Total Profit</th>\n",
       "    </tr>\n",
       "    <tr>\n",
       "      <th>Region</th>\n",
       "      <th></th>\n",
       "      <th></th>\n",
       "      <th></th>\n",
       "      <th></th>\n",
       "      <th></th>\n",
       "      <th></th>\n",
       "      <th></th>\n",
       "      <th></th>\n",
       "      <th></th>\n",
       "      <th></th>\n",
       "      <th></th>\n",
       "      <th></th>\n",
       "      <th></th>\n",
       "    </tr>\n",
       "  </thead>\n",
       "  <tbody>\n",
       "    <tr>\n",
       "      <th>Central America and the Caribbean</th>\n",
       "      <td>Antigua and Barbuda</td>\n",
       "      <td>Baby Food</td>\n",
       "      <td>Online</td>\n",
       "      <td>M</td>\n",
       "      <td>12/20/2013</td>\n",
       "      <td>957081544</td>\n",
       "      <td>1/11/2014</td>\n",
       "      <td>552</td>\n",
       "      <td>255.28</td>\n",
       "      <td>159.42</td>\n",
       "      <td>140914.56</td>\n",
       "      <td>87999.84</td>\n",
       "      <td>52914.72</td>\n",
       "    </tr>\n",
       "    <tr>\n",
       "      <th>Central America and the Caribbean</th>\n",
       "      <td>Panama</td>\n",
       "      <td>Snacks</td>\n",
       "      <td>Offline</td>\n",
       "      <td>C</td>\n",
       "      <td>7/5/2010</td>\n",
       "      <td>301644504</td>\n",
       "      <td>7/26/2010</td>\n",
       "      <td>2167</td>\n",
       "      <td>152.58</td>\n",
       "      <td>97.44</td>\n",
       "      <td>330640.86</td>\n",
       "      <td>211152.48</td>\n",
       "      <td>119488.38</td>\n",
       "    </tr>\n",
       "    <tr>\n",
       "      <th>Europe</th>\n",
       "      <td>Czech Republic</td>\n",
       "      <td>Beverages</td>\n",
       "      <td>Offline</td>\n",
       "      <td>C</td>\n",
       "      <td>9/12/2011</td>\n",
       "      <td>478051030</td>\n",
       "      <td>9/29/2011</td>\n",
       "      <td>4778</td>\n",
       "      <td>47.45</td>\n",
       "      <td>31.79</td>\n",
       "      <td>226716.10</td>\n",
       "      <td>151892.62</td>\n",
       "      <td>74823.48</td>\n",
       "    </tr>\n",
       "    <tr>\n",
       "      <th>Asia</th>\n",
       "      <td>North Korea</td>\n",
       "      <td>Cereal</td>\n",
       "      <td>Offline</td>\n",
       "      <td>L</td>\n",
       "      <td>5/13/2010</td>\n",
       "      <td>892599952</td>\n",
       "      <td>6/15/2010</td>\n",
       "      <td>9016</td>\n",
       "      <td>205.70</td>\n",
       "      <td>117.11</td>\n",
       "      <td>1854591.20</td>\n",
       "      <td>1055863.76</td>\n",
       "      <td>798727.44</td>\n",
       "    </tr>\n",
       "    <tr>\n",
       "      <th>Asia</th>\n",
       "      <td>Sri Lanka</td>\n",
       "      <td>Snacks</td>\n",
       "      <td>Offline</td>\n",
       "      <td>C</td>\n",
       "      <td>7/20/2015</td>\n",
       "      <td>571902596</td>\n",
       "      <td>7/27/2015</td>\n",
       "      <td>7542</td>\n",
       "      <td>152.58</td>\n",
       "      <td>97.44</td>\n",
       "      <td>1150758.36</td>\n",
       "      <td>734892.48</td>\n",
       "      <td>415865.88</td>\n",
       "    </tr>\n",
       "  </tbody>\n",
       "</table>\n",
       "</div>"
      ],
      "text/plain": [
       "                                                Country  Item Type  \\\n",
       "Region                                                               \n",
       "Central America and the Caribbean  Antigua and Barbuda   Baby Food   \n",
       "Central America and the Caribbean                Panama     Snacks   \n",
       "Europe                                   Czech Republic  Beverages   \n",
       "Asia                                        North Korea     Cereal   \n",
       "Asia                                          Sri Lanka     Snacks   \n",
       "\n",
       "                                  Sales Channel Order Priority  Order Date  \\\n",
       "Region                                                                       \n",
       "Central America and the Caribbean        Online              M  12/20/2013   \n",
       "Central America and the Caribbean       Offline              C    7/5/2010   \n",
       "Europe                                  Offline              C   9/12/2011   \n",
       "Asia                                    Offline              L   5/13/2010   \n",
       "Asia                                    Offline              C   7/20/2015   \n",
       "\n",
       "                                    Order ID  Ship Date  Units Sold  \\\n",
       "Region                                                                \n",
       "Central America and the Caribbean  957081544  1/11/2014         552   \n",
       "Central America and the Caribbean  301644504  7/26/2010        2167   \n",
       "Europe                             478051030  9/29/2011        4778   \n",
       "Asia                               892599952  6/15/2010        9016   \n",
       "Asia                               571902596  7/27/2015        7542   \n",
       "\n",
       "                                   Unit Price  Unit Cost  Total Revenue  \\\n",
       "Region                                                                    \n",
       "Central America and the Caribbean      255.28     159.42      140914.56   \n",
       "Central America and the Caribbean      152.58      97.44      330640.86   \n",
       "Europe                                  47.45      31.79      226716.10   \n",
       "Asia                                   205.70     117.11     1854591.20   \n",
       "Asia                                   152.58      97.44     1150758.36   \n",
       "\n",
       "                                   Total Cost  Total Profit  \n",
       "Region                                                       \n",
       "Central America and the Caribbean    87999.84      52914.72  \n",
       "Central America and the Caribbean   211152.48     119488.38  \n",
       "Europe                              151892.62      74823.48  \n",
       "Asia                               1055863.76     798727.44  \n",
       "Asia                                734892.48     415865.88  "
      ]
     },
     "execution_count": 42,
     "metadata": {},
     "output_type": "execute_result"
    }
   ],
   "source": [
    "import pandas as pd\n",
    "sale=pd.read_csv('sale.csv',index_col='Region',squeeze=True)\n",
    "sale\n",
    "sale.head()\n"
   ]
  },
  {
   "cell_type": "code",
   "execution_count": 62,
   "metadata": {},
   "outputs": [
    {
     "data": {
      "text/html": [
       "<div>\n",
       "<style scoped>\n",
       "    .dataframe tbody tr th:only-of-type {\n",
       "        vertical-align: middle;\n",
       "    }\n",
       "\n",
       "    .dataframe tbody tr th {\n",
       "        vertical-align: top;\n",
       "    }\n",
       "\n",
       "    .dataframe thead th {\n",
       "        text-align: right;\n",
       "    }\n",
       "</style>\n",
       "<table border=\"1\" class=\"dataframe\">\n",
       "  <thead>\n",
       "    <tr style=\"text-align: right;\">\n",
       "      <th></th>\n",
       "    </tr>\n",
       "    <tr>\n",
       "      <th>Region</th>\n",
       "    </tr>\n",
       "  </thead>\n",
       "  <tbody>\n",
       "    <tr>\n",
       "      <th>Central America and the Caribbean</th>\n",
       "    </tr>\n",
       "    <tr>\n",
       "      <th>Central America and the Caribbean</th>\n",
       "    </tr>\n",
       "    <tr>\n",
       "      <th>Europe</th>\n",
       "    </tr>\n",
       "    <tr>\n",
       "      <th>Asia</th>\n",
       "    </tr>\n",
       "    <tr>\n",
       "      <th>Asia</th>\n",
       "    </tr>\n",
       "    <tr>\n",
       "      <th>Middle East and North Africa</th>\n",
       "    </tr>\n",
       "    <tr>\n",
       "      <th>Australia and Oceania</th>\n",
       "    </tr>\n",
       "    <tr>\n",
       "      <th>Europe</th>\n",
       "    </tr>\n",
       "    <tr>\n",
       "      <th>Middle East and North Africa</th>\n",
       "    </tr>\n",
       "    <tr>\n",
       "      <th>Sub-Saharan Africa</th>\n",
       "    </tr>\n",
       "    <tr>\n",
       "      <th>Middle East and North Africa</th>\n",
       "    </tr>\n",
       "    <tr>\n",
       "      <th>Middle East and North Africa</th>\n",
       "    </tr>\n",
       "    <tr>\n",
       "      <th>Asia</th>\n",
       "    </tr>\n",
       "    <tr>\n",
       "      <th>Central America and the Caribbean</th>\n",
       "    </tr>\n",
       "    <tr>\n",
       "      <th>Central America and the Caribbean</th>\n",
       "    </tr>\n",
       "    <tr>\n",
       "      <th>Middle East and North Africa</th>\n",
       "    </tr>\n",
       "    <tr>\n",
       "      <th>Europe</th>\n",
       "    </tr>\n",
       "    <tr>\n",
       "      <th>Europe</th>\n",
       "    </tr>\n",
       "    <tr>\n",
       "      <th>North America</th>\n",
       "    </tr>\n",
       "    <tr>\n",
       "      <th>Central America and the Caribbean</th>\n",
       "    </tr>\n",
       "    <tr>\n",
       "      <th>Middle East and North Africa</th>\n",
       "    </tr>\n",
       "    <tr>\n",
       "      <th>Middle East and North Africa</th>\n",
       "    </tr>\n",
       "    <tr>\n",
       "      <th>Europe</th>\n",
       "    </tr>\n",
       "    <tr>\n",
       "      <th>Australia and Oceania</th>\n",
       "    </tr>\n",
       "    <tr>\n",
       "      <th>Middle East and North Africa</th>\n",
       "    </tr>\n",
       "    <tr>\n",
       "      <th>Central America and the Caribbean</th>\n",
       "    </tr>\n",
       "    <tr>\n",
       "      <th>Europe</th>\n",
       "    </tr>\n",
       "    <tr>\n",
       "      <th>Central America and the Caribbean</th>\n",
       "    </tr>\n",
       "    <tr>\n",
       "      <th>Sub-Saharan Africa</th>\n",
       "    </tr>\n",
       "    <tr>\n",
       "      <th>Australia and Oceania</th>\n",
       "    </tr>\n",
       "    <tr>\n",
       "      <th>...</th>\n",
       "    </tr>\n",
       "    <tr>\n",
       "      <th>Asia</th>\n",
       "    </tr>\n",
       "    <tr>\n",
       "      <th>Europe</th>\n",
       "    </tr>\n",
       "    <tr>\n",
       "      <th>Middle East and North Africa</th>\n",
       "    </tr>\n",
       "    <tr>\n",
       "      <th>Sub-Saharan Africa</th>\n",
       "    </tr>\n",
       "    <tr>\n",
       "      <th>Asia</th>\n",
       "    </tr>\n",
       "    <tr>\n",
       "      <th>Australia and Oceania</th>\n",
       "    </tr>\n",
       "    <tr>\n",
       "      <th>Sub-Saharan Africa</th>\n",
       "    </tr>\n",
       "    <tr>\n",
       "      <th>Sub-Saharan Africa</th>\n",
       "    </tr>\n",
       "    <tr>\n",
       "      <th>Europe</th>\n",
       "    </tr>\n",
       "    <tr>\n",
       "      <th>Sub-Saharan Africa</th>\n",
       "    </tr>\n",
       "    <tr>\n",
       "      <th>Asia</th>\n",
       "    </tr>\n",
       "    <tr>\n",
       "      <th>Sub-Saharan Africa</th>\n",
       "    </tr>\n",
       "    <tr>\n",
       "      <th>Middle East and North Africa</th>\n",
       "    </tr>\n",
       "    <tr>\n",
       "      <th>Asia</th>\n",
       "    </tr>\n",
       "    <tr>\n",
       "      <th>Asia</th>\n",
       "    </tr>\n",
       "    <tr>\n",
       "      <th>Asia</th>\n",
       "    </tr>\n",
       "    <tr>\n",
       "      <th>Asia</th>\n",
       "    </tr>\n",
       "    <tr>\n",
       "      <th>Europe</th>\n",
       "    </tr>\n",
       "    <tr>\n",
       "      <th>Middle East and North Africa</th>\n",
       "    </tr>\n",
       "    <tr>\n",
       "      <th>Asia</th>\n",
       "    </tr>\n",
       "    <tr>\n",
       "      <th>Europe</th>\n",
       "    </tr>\n",
       "    <tr>\n",
       "      <th>Europe</th>\n",
       "    </tr>\n",
       "    <tr>\n",
       "      <th>Middle East and North Africa</th>\n",
       "    </tr>\n",
       "    <tr>\n",
       "      <th>Europe</th>\n",
       "    </tr>\n",
       "    <tr>\n",
       "      <th>Sub-Saharan Africa</th>\n",
       "    </tr>\n",
       "    <tr>\n",
       "      <th>Australia and Oceania</th>\n",
       "    </tr>\n",
       "    <tr>\n",
       "      <th>Middle East and North Africa</th>\n",
       "    </tr>\n",
       "    <tr>\n",
       "      <th>Asia</th>\n",
       "    </tr>\n",
       "    <tr>\n",
       "      <th>Europe</th>\n",
       "    </tr>\n",
       "    <tr>\n",
       "      <th>Sub-Saharan Africa</th>\n",
       "    </tr>\n",
       "  </tbody>\n",
       "</table>\n",
       "<p>5000 rows × 0 columns</p>\n",
       "</div>"
      ],
      "text/plain": [
       "Empty DataFrame\n",
       "Columns: []\n",
       "Index: [Central America and the Caribbean, Central America and the Caribbean, Europe, Asia, Asia, Middle East and North Africa, Australia and Oceania, Europe, Middle East and North Africa, Sub-Saharan Africa, Middle East and North Africa, Middle East and North Africa, Asia, Central America and the Caribbean, Central America and the Caribbean, Middle East and North Africa, Europe, Europe, North America, Central America and the Caribbean, Middle East and North Africa, Middle East and North Africa, Europe, Australia and Oceania, Middle East and North Africa, Central America and the Caribbean, Europe, Central America and the Caribbean, Sub-Saharan Africa, Australia and Oceania, Middle East and North Africa, Australia and Oceania, Middle East and North Africa, Sub-Saharan Africa, Middle East and North Africa, Europe, Australia and Oceania, Europe, Sub-Saharan Africa, Middle East and North Africa, Europe, Middle East and North Africa, Asia, Asia, Middle East and North Africa, Sub-Saharan Africa, Sub-Saharan Africa, Middle East and North Africa, Europe, Asia, Europe, Asia, Europe, Australia and Oceania, Australia and Oceania, Asia, Australia and Oceania, Sub-Saharan Africa, Asia, Central America and the Caribbean, Middle East and North Africa, Central America and the Caribbean, Europe, Asia, Central America and the Caribbean, Middle East and North Africa, Sub-Saharan Africa, Sub-Saharan Africa, Central America and the Caribbean, Sub-Saharan Africa, Middle East and North Africa, Europe, Central America and the Caribbean, Australia and Oceania, Central America and the Caribbean, Middle East and North Africa, Australia and Oceania, Australia and Oceania, Sub-Saharan Africa, Europe, Middle East and North Africa, Middle East and North Africa, Sub-Saharan Africa, Sub-Saharan Africa, Europe, Asia, Europe, Europe, Europe, Asia, Central America and the Caribbean, Sub-Saharan Africa, Europe, Central America and the Caribbean, Asia, Europe, Sub-Saharan Africa, Australia and Oceania, Middle East and North Africa, Sub-Saharan Africa, ...]\n",
       "\n",
       "[5000 rows x 0 columns]"
      ]
     },
     "execution_count": 62,
     "metadata": {},
     "output_type": "execute_result"
    }
   ],
   "source": [
    "sale=pd.read_csv('sale.csv',usecols=['Region'],index_col='Region',squeeze=True)\n",
    "sale\n"
   ]
  },
  {
   "cell_type": "code",
   "execution_count": 96,
   "metadata": {},
   "outputs": [],
   "source": [
    "Region.get(\"Asia\")\n"
   ]
  },
  {
   "cell_type": "code",
   "execution_count": null,
   "metadata": {},
   "outputs": [],
   "source": []
  },
  {
   "cell_type": "code",
   "execution_count": 108,
   "metadata": {
    "scrolled": true
   },
   "outputs": [
    {
     "data": {
      "text/html": [
       "<div>\n",
       "<style scoped>\n",
       "    .dataframe tbody tr th:only-of-type {\n",
       "        vertical-align: middle;\n",
       "    }\n",
       "\n",
       "    .dataframe tbody tr th {\n",
       "        vertical-align: top;\n",
       "    }\n",
       "\n",
       "    .dataframe thead th {\n",
       "        text-align: right;\n",
       "    }\n",
       "</style>\n",
       "<table border=\"1\" class=\"dataframe\">\n",
       "  <thead>\n",
       "    <tr style=\"text-align: right;\">\n",
       "      <th></th>\n",
       "    </tr>\n",
       "    <tr>\n",
       "      <th>Region</th>\n",
       "    </tr>\n",
       "  </thead>\n",
       "  <tbody>\n",
       "    <tr>\n",
       "      <th>Asia</th>\n",
       "    </tr>\n",
       "    <tr>\n",
       "      <th>Asia</th>\n",
       "    </tr>\n",
       "    <tr>\n",
       "      <th>Asia</th>\n",
       "    </tr>\n",
       "    <tr>\n",
       "      <th>Asia</th>\n",
       "    </tr>\n",
       "    <tr>\n",
       "      <th>Asia</th>\n",
       "    </tr>\n",
       "  </tbody>\n",
       "</table>\n",
       "</div>"
      ],
      "text/plain": [
       "Empty DataFrame\n",
       "Columns: []\n",
       "Index: [Asia, Asia, Asia, Asia, Asia]"
      ]
     },
     "execution_count": 108,
     "metadata": {},
     "output_type": "execute_result"
    }
   ],
   "source": [
    "Region=pd.read_csv(\"sale.csv\",squeeze=True,usecols=['Region'],index_col='Region')\n",
    "Region.sort_index(ascending=True,inplace=True)\n",
    "Region.head()\n"
   ]
  },
  {
   "cell_type": "code",
   "execution_count": 115,
   "metadata": {},
   "outputs": [
    {
     "data": {
      "text/plain": [
       "0    34.60\n",
       "1    35.60\n",
       "2     9.78\n",
       "3    37.60\n",
       "4    56.80\n",
       "Name: stock, dtype: float64"
      ]
     },
     "execution_count": 115,
     "metadata": {},
     "output_type": "execute_result"
    }
   ],
   "source": [
    "google=pd.read_csv(\"test.csv\",squeeze=True)\n",
    "google.head()"
   ]
  },
  {
   "cell_type": "code",
   "execution_count": 116,
   "metadata": {},
   "outputs": [
    {
     "data": {
      "text/plain": [
       "13"
      ]
     },
     "execution_count": 116,
     "metadata": {},
     "output_type": "execute_result"
    }
   ],
   "source": [
    "google.count()"
   ]
  },
  {
   "cell_type": "code",
   "execution_count": 117,
   "metadata": {},
   "outputs": [
    {
     "data": {
      "text/plain": [
       "471.58000000000004"
      ]
     },
     "execution_count": 117,
     "metadata": {},
     "output_type": "execute_result"
    }
   ],
   "source": [
    "google.sum()"
   ]
  },
  {
   "cell_type": "code",
   "execution_count": 118,
   "metadata": {},
   "outputs": [
    {
     "data": {
      "text/plain": [
       "36.27538461538462"
      ]
     },
     "execution_count": 118,
     "metadata": {},
     "output_type": "execute_result"
    }
   ],
   "source": [
    "google.mean()"
   ]
  },
  {
   "cell_type": "code",
   "execution_count": 119,
   "metadata": {},
   "outputs": [
    {
     "data": {
      "text/plain": [
       "36.27538461538462"
      ]
     },
     "execution_count": 119,
     "metadata": {},
     "output_type": "execute_result"
    }
   ],
   "source": [
    "google.sum()/google.count()"
   ]
  },
  {
   "cell_type": "code",
   "execution_count": null,
   "metadata": {},
   "outputs": [],
   "source": []
  },
  {
   "cell_type": "code",
   "execution_count": 120,
   "metadata": {},
   "outputs": [
    {
     "data": {
      "text/plain": [
       "87.5"
      ]
     },
     "execution_count": 120,
     "metadata": {},
     "output_type": "execute_result"
    }
   ],
   "source": [
    "google.max()"
   ]
  },
  {
   "cell_type": "code",
   "execution_count": 121,
   "metadata": {},
   "outputs": [
    {
     "data": {
      "text/plain": [
       "5"
      ]
     },
     "execution_count": 121,
     "metadata": {},
     "output_type": "execute_result"
    }
   ],
   "source": [
    "google.idxmax()"
   ]
  },
  {
   "cell_type": "code",
   "execution_count": 123,
   "metadata": {},
   "outputs": [
    {
     "data": {
      "text/plain": [
       "87.5"
      ]
     },
     "execution_count": 123,
     "metadata": {},
     "output_type": "execute_result"
    }
   ],
   "source": [
    "google[5]"
   ]
  },
  {
   "cell_type": "code",
   "execution_count": 143,
   "metadata": {},
   "outputs": [
    {
     "ename": "AttributeError",
     "evalue": "'DataFrame' object has no attribute 'value_counts'",
     "output_type": "error",
     "traceback": [
      "\u001b[1;31m---------------------------------------------------------------------------\u001b[0m",
      "\u001b[1;31mAttributeError\u001b[0m                            Traceback (most recent call last)",
      "\u001b[1;32m<ipython-input-143-5ccbe5b817c3>\u001b[0m in \u001b[0;36m<module>\u001b[1;34m\u001b[0m\n\u001b[0;32m      1\u001b[0m \u001b[0msale\u001b[0m\u001b[1;33m=\u001b[0m\u001b[0mpd\u001b[0m\u001b[1;33m.\u001b[0m\u001b[0mread_csv\u001b[0m\u001b[1;33m(\u001b[0m\u001b[1;34m\"sale.csv\"\u001b[0m\u001b[1;33m,\u001b[0m\u001b[0msqueeze\u001b[0m\u001b[1;33m=\u001b[0m\u001b[1;32mTrue\u001b[0m\u001b[1;33m,\u001b[0m\u001b[0mindex_col\u001b[0m\u001b[1;33m=\u001b[0m\u001b[1;34m'Unit Cost'\u001b[0m\u001b[1;33m)\u001b[0m\u001b[1;33m\u001b[0m\u001b[1;33m\u001b[0m\u001b[0m\n\u001b[0;32m      2\u001b[0m \u001b[0msale\u001b[0m\u001b[1;33m.\u001b[0m\u001b[0mhead\u001b[0m\u001b[1;33m(\u001b[0m\u001b[1;33m)\u001b[0m\u001b[1;33m\u001b[0m\u001b[1;33m\u001b[0m\u001b[0m\n\u001b[1;32m----> 3\u001b[1;33m \u001b[0msale\u001b[0m\u001b[1;33m.\u001b[0m\u001b[0mvalue_counts\u001b[0m\u001b[1;33m(\u001b[0m\u001b[1;33m)\u001b[0m\u001b[1;33m\u001b[0m\u001b[1;33m\u001b[0m\u001b[0m\n\u001b[0m",
      "\u001b[1;32mc:\\users\\bibhuti\\appdata\\local\\programs\\python\\python37\\lib\\site-packages\\pandas\\core\\generic.py\u001b[0m in \u001b[0;36m__getattr__\u001b[1;34m(self, name)\u001b[0m\n\u001b[0;32m   5065\u001b[0m             \u001b[1;32mif\u001b[0m \u001b[0mself\u001b[0m\u001b[1;33m.\u001b[0m\u001b[0m_info_axis\u001b[0m\u001b[1;33m.\u001b[0m\u001b[0m_can_hold_identifiers_and_holds_name\u001b[0m\u001b[1;33m(\u001b[0m\u001b[0mname\u001b[0m\u001b[1;33m)\u001b[0m\u001b[1;33m:\u001b[0m\u001b[1;33m\u001b[0m\u001b[1;33m\u001b[0m\u001b[0m\n\u001b[0;32m   5066\u001b[0m                 \u001b[1;32mreturn\u001b[0m \u001b[0mself\u001b[0m\u001b[1;33m[\u001b[0m\u001b[0mname\u001b[0m\u001b[1;33m]\u001b[0m\u001b[1;33m\u001b[0m\u001b[1;33m\u001b[0m\u001b[0m\n\u001b[1;32m-> 5067\u001b[1;33m             \u001b[1;32mreturn\u001b[0m \u001b[0mobject\u001b[0m\u001b[1;33m.\u001b[0m\u001b[0m__getattribute__\u001b[0m\u001b[1;33m(\u001b[0m\u001b[0mself\u001b[0m\u001b[1;33m,\u001b[0m \u001b[0mname\u001b[0m\u001b[1;33m)\u001b[0m\u001b[1;33m\u001b[0m\u001b[1;33m\u001b[0m\u001b[0m\n\u001b[0m\u001b[0;32m   5068\u001b[0m \u001b[1;33m\u001b[0m\u001b[0m\n\u001b[0;32m   5069\u001b[0m     \u001b[1;32mdef\u001b[0m \u001b[0m__setattr__\u001b[0m\u001b[1;33m(\u001b[0m\u001b[0mself\u001b[0m\u001b[1;33m,\u001b[0m \u001b[0mname\u001b[0m\u001b[1;33m,\u001b[0m \u001b[0mvalue\u001b[0m\u001b[1;33m)\u001b[0m\u001b[1;33m:\u001b[0m\u001b[1;33m\u001b[0m\u001b[1;33m\u001b[0m\u001b[0m\n",
      "\u001b[1;31mAttributeError\u001b[0m: 'DataFrame' object has no attribute 'value_counts'"
     ]
    }
   ],
   "source": [
    "sale=pd.read_csv(\"sale.csv\",squeeze=True,index_col='Unit Cost')\n",
    "sale.head()\n",
    "sale.value_counts()"
   ]
  },
  {
   "cell_type": "code",
   "execution_count": 144,
   "metadata": {},
   "outputs": [
    {
     "data": {
      "text/plain": [
       "0    34.60\n",
       "1    35.60\n",
       "2     9.78\n",
       "3    37.60\n",
       "4    56.80\n",
       "Name: stock, dtype: float64"
      ]
     },
     "execution_count": 144,
     "metadata": {},
     "output_type": "execute_result"
    }
   ],
   "source": [
    "google=pd.read_csv('Test.csv',squeeze=True)\n",
    "google.head()"
   ]
  },
  {
   "cell_type": "code",
   "execution_count": 149,
   "metadata": {},
   "outputs": [
    {
     "data": {
      "text/plain": [
       "0    35.60\n",
       "1    36.60\n",
       "2    10.78\n",
       "3    38.60\n",
       "4    57.80\n",
       "Name: stock, dtype: float64"
      ]
     },
     "execution_count": 149,
     "metadata": {},
     "output_type": "execute_result"
    }
   ],
   "source": [
    "google.apply(lambda stock:stock+1).head()"
   ]
  },
  {
   "cell_type": "code",
   "execution_count": 164,
   "metadata": {},
   "outputs": [
    {
     "data": {
      "text/plain": [
       "0     ok\n",
       "1     ok\n",
       "2     ok\n",
       "3     ok\n",
       "4     ok\n",
       "5     ok\n",
       "6     ok\n",
       "7     ok\n",
       "8     ok\n",
       "9     ok\n",
       "10    ok\n",
       "11    ok\n",
       "12    ok\n",
       "Name: stock, dtype: object"
      ]
     },
     "execution_count": 164,
     "metadata": {},
     "output_type": "execute_result"
    }
   ],
   "source": [
    "def classify_per(number):\n",
    "    if number<300:\n",
    "        return \"ok\"\n",
    "    elif number>=300 & number <600:\n",
    "        return \"satisfactory\"\n",
    "    else:\n",
    "        return \"Incredible\"\n",
    "    \n",
    "google.apply(classify_per)"
   ]
  },
  {
   "cell_type": "code",
   "execution_count": 170,
   "metadata": {},
   "outputs": [
    {
     "data": {
      "text/html": [
       "<div>\n",
       "<style scoped>\n",
       "    .dataframe tbody tr th:only-of-type {\n",
       "        vertical-align: middle;\n",
       "    }\n",
       "\n",
       "    .dataframe tbody tr th {\n",
       "        vertical-align: top;\n",
       "    }\n",
       "\n",
       "    .dataframe thead th {\n",
       "        text-align: right;\n",
       "    }\n",
       "</style>\n",
       "<table border=\"1\" class=\"dataframe\">\n",
       "  <thead>\n",
       "    <tr style=\"text-align: right;\">\n",
       "      <th></th>\n",
       "      <th>Region</th>\n",
       "      <th>Country</th>\n",
       "      <th>Item Type</th>\n",
       "      <th>Sales Channel</th>\n",
       "      <th>Order Priority</th>\n",
       "      <th>Order Date</th>\n",
       "      <th>Order ID</th>\n",
       "      <th>Ship Date</th>\n",
       "      <th>Units Sold</th>\n",
       "      <th>Unit Price</th>\n",
       "      <th>Unit Cost</th>\n",
       "      <th>Total Revenue</th>\n",
       "      <th>Total Cost</th>\n",
       "      <th>Total Profit</th>\n",
       "    </tr>\n",
       "  </thead>\n",
       "  <tbody>\n",
       "    <tr>\n",
       "      <th>0</th>\n",
       "      <td>Central America and the Caribbean</td>\n",
       "      <td>Antigua and Barbuda</td>\n",
       "      <td>Baby Food</td>\n",
       "      <td>Online</td>\n",
       "      <td>M</td>\n",
       "      <td>12/20/2013</td>\n",
       "      <td>957081544</td>\n",
       "      <td>1/11/2014</td>\n",
       "      <td>552</td>\n",
       "      <td>255.28</td>\n",
       "      <td>159.42</td>\n",
       "      <td>140914.56</td>\n",
       "      <td>87999.84</td>\n",
       "      <td>52914.72</td>\n",
       "    </tr>\n",
       "    <tr>\n",
       "      <th>1</th>\n",
       "      <td>Central America and the Caribbean</td>\n",
       "      <td>Panama</td>\n",
       "      <td>Snacks</td>\n",
       "      <td>Offline</td>\n",
       "      <td>C</td>\n",
       "      <td>7/5/2010</td>\n",
       "      <td>301644504</td>\n",
       "      <td>7/26/2010</td>\n",
       "      <td>2167</td>\n",
       "      <td>152.58</td>\n",
       "      <td>97.44</td>\n",
       "      <td>330640.86</td>\n",
       "      <td>211152.48</td>\n",
       "      <td>119488.38</td>\n",
       "    </tr>\n",
       "    <tr>\n",
       "      <th>2</th>\n",
       "      <td>Europe</td>\n",
       "      <td>Czech Republic</td>\n",
       "      <td>Beverages</td>\n",
       "      <td>Offline</td>\n",
       "      <td>C</td>\n",
       "      <td>9/12/2011</td>\n",
       "      <td>478051030</td>\n",
       "      <td>9/29/2011</td>\n",
       "      <td>4778</td>\n",
       "      <td>47.45</td>\n",
       "      <td>31.79</td>\n",
       "      <td>226716.10</td>\n",
       "      <td>151892.62</td>\n",
       "      <td>74823.48</td>\n",
       "    </tr>\n",
       "    <tr>\n",
       "      <th>3</th>\n",
       "      <td>Asia</td>\n",
       "      <td>North Korea</td>\n",
       "      <td>Cereal</td>\n",
       "      <td>Offline</td>\n",
       "      <td>L</td>\n",
       "      <td>5/13/2010</td>\n",
       "      <td>892599952</td>\n",
       "      <td>6/15/2010</td>\n",
       "      <td>9016</td>\n",
       "      <td>205.70</td>\n",
       "      <td>117.11</td>\n",
       "      <td>1854591.20</td>\n",
       "      <td>1055863.76</td>\n",
       "      <td>798727.44</td>\n",
       "    </tr>\n",
       "    <tr>\n",
       "      <th>4</th>\n",
       "      <td>Asia</td>\n",
       "      <td>Sri Lanka</td>\n",
       "      <td>Snacks</td>\n",
       "      <td>Offline</td>\n",
       "      <td>C</td>\n",
       "      <td>7/20/2015</td>\n",
       "      <td>571902596</td>\n",
       "      <td>7/27/2015</td>\n",
       "      <td>7542</td>\n",
       "      <td>152.58</td>\n",
       "      <td>97.44</td>\n",
       "      <td>1150758.36</td>\n",
       "      <td>734892.48</td>\n",
       "      <td>415865.88</td>\n",
       "    </tr>\n",
       "    <tr>\n",
       "      <th>5</th>\n",
       "      <td>Middle East and North Africa</td>\n",
       "      <td>Morocco</td>\n",
       "      <td>Personal Care</td>\n",
       "      <td>Offline</td>\n",
       "      <td>L</td>\n",
       "      <td>11/8/2010</td>\n",
       "      <td>412882792</td>\n",
       "      <td>11/22/2010</td>\n",
       "      <td>48</td>\n",
       "      <td>81.73</td>\n",
       "      <td>56.67</td>\n",
       "      <td>3923.04</td>\n",
       "      <td>2720.16</td>\n",
       "      <td>1202.88</td>\n",
       "    </tr>\n",
       "    <tr>\n",
       "      <th>6</th>\n",
       "      <td>Australia and Oceania</td>\n",
       "      <td>Federated States of Micronesia</td>\n",
       "      <td>Clothes</td>\n",
       "      <td>Offline</td>\n",
       "      <td>H</td>\n",
       "      <td>3/28/2011</td>\n",
       "      <td>932776868</td>\n",
       "      <td>5/10/2011</td>\n",
       "      <td>8258</td>\n",
       "      <td>109.28</td>\n",
       "      <td>35.84</td>\n",
       "      <td>902434.24</td>\n",
       "      <td>295966.72</td>\n",
       "      <td>606467.52</td>\n",
       "    </tr>\n",
       "    <tr>\n",
       "      <th>7</th>\n",
       "      <td>Europe</td>\n",
       "      <td>Bosnia and Herzegovina</td>\n",
       "      <td>Clothes</td>\n",
       "      <td>Online</td>\n",
       "      <td>M</td>\n",
       "      <td>10/14/2013</td>\n",
       "      <td>919133651</td>\n",
       "      <td>11/4/2013</td>\n",
       "      <td>927</td>\n",
       "      <td>109.28</td>\n",
       "      <td>35.84</td>\n",
       "      <td>101302.56</td>\n",
       "      <td>33223.68</td>\n",
       "      <td>68078.88</td>\n",
       "    </tr>\n",
       "    <tr>\n",
       "      <th>8</th>\n",
       "      <td>Middle East and North Africa</td>\n",
       "      <td>Afghanistan</td>\n",
       "      <td>Clothes</td>\n",
       "      <td>Offline</td>\n",
       "      <td>M</td>\n",
       "      <td>8/27/2016</td>\n",
       "      <td>579814469</td>\n",
       "      <td>10/5/2016</td>\n",
       "      <td>8841</td>\n",
       "      <td>109.28</td>\n",
       "      <td>35.84</td>\n",
       "      <td>966144.48</td>\n",
       "      <td>316861.44</td>\n",
       "      <td>649283.04</td>\n",
       "    </tr>\n",
       "    <tr>\n",
       "      <th>9</th>\n",
       "      <td>Sub-Saharan Africa</td>\n",
       "      <td>Ethiopia</td>\n",
       "      <td>Baby Food</td>\n",
       "      <td>Online</td>\n",
       "      <td>M</td>\n",
       "      <td>4/13/2015</td>\n",
       "      <td>192993152</td>\n",
       "      <td>5/7/2015</td>\n",
       "      <td>9817</td>\n",
       "      <td>255.28</td>\n",
       "      <td>159.42</td>\n",
       "      <td>2506083.76</td>\n",
       "      <td>1565026.14</td>\n",
       "      <td>941057.62</td>\n",
       "    </tr>\n",
       "    <tr>\n",
       "      <th>10</th>\n",
       "      <td>Middle East and North Africa</td>\n",
       "      <td>Turkey</td>\n",
       "      <td>Office Supplies</td>\n",
       "      <td>Offline</td>\n",
       "      <td>C</td>\n",
       "      <td>9/25/2013</td>\n",
       "      <td>557156026</td>\n",
       "      <td>10/15/2013</td>\n",
       "      <td>3704</td>\n",
       "      <td>651.21</td>\n",
       "      <td>524.96</td>\n",
       "      <td>2412081.84</td>\n",
       "      <td>1944451.84</td>\n",
       "      <td>467630.00</td>\n",
       "    </tr>\n",
       "  </tbody>\n",
       "</table>\n",
       "</div>"
      ],
      "text/plain": [
       "                               Region                         Country  \\\n",
       "0   Central America and the Caribbean            Antigua and Barbuda    \n",
       "1   Central America and the Caribbean                          Panama   \n",
       "2                              Europe                  Czech Republic   \n",
       "3                                Asia                     North Korea   \n",
       "4                                Asia                       Sri Lanka   \n",
       "5        Middle East and North Africa                         Morocco   \n",
       "6               Australia and Oceania  Federated States of Micronesia   \n",
       "7                              Europe          Bosnia and Herzegovina   \n",
       "8        Middle East and North Africa                     Afghanistan   \n",
       "9                  Sub-Saharan Africa                        Ethiopia   \n",
       "10       Middle East and North Africa                          Turkey   \n",
       "\n",
       "          Item Type Sales Channel Order Priority  Order Date   Order ID  \\\n",
       "0         Baby Food        Online              M  12/20/2013  957081544   \n",
       "1            Snacks       Offline              C    7/5/2010  301644504   \n",
       "2         Beverages       Offline              C   9/12/2011  478051030   \n",
       "3            Cereal       Offline              L   5/13/2010  892599952   \n",
       "4            Snacks       Offline              C   7/20/2015  571902596   \n",
       "5     Personal Care       Offline              L   11/8/2010  412882792   \n",
       "6           Clothes       Offline              H   3/28/2011  932776868   \n",
       "7           Clothes        Online              M  10/14/2013  919133651   \n",
       "8           Clothes       Offline              M   8/27/2016  579814469   \n",
       "9         Baby Food        Online              M   4/13/2015  192993152   \n",
       "10  Office Supplies       Offline              C   9/25/2013  557156026   \n",
       "\n",
       "     Ship Date  Units Sold  Unit Price  Unit Cost  Total Revenue  Total Cost  \\\n",
       "0    1/11/2014         552      255.28     159.42      140914.56    87999.84   \n",
       "1    7/26/2010        2167      152.58      97.44      330640.86   211152.48   \n",
       "2    9/29/2011        4778       47.45      31.79      226716.10   151892.62   \n",
       "3    6/15/2010        9016      205.70     117.11     1854591.20  1055863.76   \n",
       "4    7/27/2015        7542      152.58      97.44     1150758.36   734892.48   \n",
       "5   11/22/2010          48       81.73      56.67        3923.04     2720.16   \n",
       "6    5/10/2011        8258      109.28      35.84      902434.24   295966.72   \n",
       "7    11/4/2013         927      109.28      35.84      101302.56    33223.68   \n",
       "8    10/5/2016        8841      109.28      35.84      966144.48   316861.44   \n",
       "9     5/7/2015        9817      255.28     159.42     2506083.76  1565026.14   \n",
       "10  10/15/2013        3704      651.21     524.96     2412081.84  1944451.84   \n",
       "\n",
       "    Total Profit  \n",
       "0       52914.72  \n",
       "1      119488.38  \n",
       "2       74823.48  \n",
       "3      798727.44  \n",
       "4      415865.88  \n",
       "5        1202.88  \n",
       "6      606467.52  \n",
       "7       68078.88  \n",
       "8      649283.04  \n",
       "9      941057.62  \n",
       "10     467630.00  "
      ]
     },
     "execution_count": 170,
     "metadata": {},
     "output_type": "execute_result"
    }
   ],
   "source": [
    "sale=pd.read_csv(\"sale.csv\")\n",
    "sale.head(11)"
   ]
  },
  {
   "cell_type": "code",
   "execution_count": 171,
   "metadata": {},
   "outputs": [
    {
     "data": {
      "text/plain": [
       "RangeIndex(start=0, stop=5000, step=1)"
      ]
     },
     "execution_count": 171,
     "metadata": {},
     "output_type": "execute_result"
    }
   ],
   "source": [
    "sale.index"
   ]
  },
  {
   "cell_type": "code",
   "execution_count": 172,
   "metadata": {},
   "outputs": [
    {
     "data": {
      "text/plain": [
       "(5000, 14)"
      ]
     },
     "execution_count": 172,
     "metadata": {},
     "output_type": "execute_result"
    }
   ],
   "source": [
    "sale.shape"
   ]
  },
  {
   "cell_type": "code",
   "execution_count": 173,
   "metadata": {},
   "outputs": [
    {
     "data": {
      "text/plain": [
       "Index(['Region', 'Country', 'Item Type', 'Sales Channel', 'Order Priority',\n",
       "       'Order Date', 'Order ID', 'Ship Date', 'Units Sold', 'Unit Price',\n",
       "       'Unit Cost', 'Total Revenue', 'Total Cost', 'Total Profit'],\n",
       "      dtype='object')"
      ]
     },
     "execution_count": 173,
     "metadata": {},
     "output_type": "execute_result"
    }
   ],
   "source": [
    "sale.columns"
   ]
  },
  {
   "cell_type": "code",
   "execution_count": 175,
   "metadata": {},
   "outputs": [
    {
     "name": "stdout",
     "output_type": "stream",
     "text": [
      "<class 'pandas.core.frame.DataFrame'>\n",
      "RangeIndex: 5000 entries, 0 to 4999\n",
      "Data columns (total 14 columns):\n",
      "Region            5000 non-null object\n",
      "Country           5000 non-null object\n",
      "Item Type         5000 non-null object\n",
      "Sales Channel     5000 non-null object\n",
      "Order Priority    5000 non-null object\n",
      "Order Date        5000 non-null object\n",
      "Order ID          5000 non-null int64\n",
      "Ship Date         5000 non-null object\n",
      "Units Sold        5000 non-null int64\n",
      "Unit Price        5000 non-null float64\n",
      "Unit Cost         5000 non-null float64\n",
      "Total Revenue     5000 non-null float64\n",
      "Total Cost        5000 non-null float64\n",
      "Total Profit      5000 non-null float64\n",
      "dtypes: float64(5), int64(2), object(7)\n",
      "memory usage: 547.0+ KB\n"
     ]
    }
   ],
   "source": [
    "sale.info()"
   ]
  }
 ],
 "metadata": {
  "kernelspec": {
   "display_name": "Python 3",
   "language": "python",
   "name": "python3"
  },
  "language_info": {
   "codemirror_mode": {
    "name": "ipython",
    "version": 3
   },
   "file_extension": ".py",
   "mimetype": "text/x-python",
   "name": "python",
   "nbconvert_exporter": "python",
   "pygments_lexer": "ipython3",
   "version": "3.7.3"
  }
 },
 "nbformat": 4,
 "nbformat_minor": 2
}
