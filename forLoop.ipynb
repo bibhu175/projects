{
 "cells": [
  {
   "cell_type": "code",
   "execution_count": 7,
   "metadata": {},
   "outputs": [
    {
     "name": "stdout",
     "output_type": "stream",
     "text": [
      "9223455356001998"
     ]
    }
   ],
   "source": [
    "number='9,223,455,356,001,998'\n",
    "for i in range(0,len(number)):\n",
    "    if number[i] in '0123456789':\n",
    "        print(number[i], end='')"
   ]
  },
  {
   "cell_type": "code",
   "execution_count": 22,
   "metadata": {},
   "outputs": [
    {
     "name": "stdout",
     "output_type": "stream",
     "text": [
      "the number is 9223455356001998\n"
     ]
    }
   ],
   "source": [
    "number=('9,223,455,356,001,998')\n",
    "clearNumber=''\n",
    "for i in range(0,len(number)):\n",
    "    if number[i] in '0123456789':\n",
    "        clearNumber=clearNumber+number[i]\n",
    "newNumber = int(clearNumber)\n",
    "print('the number is {}'.format(newNumber))\n",
    "    "
   ]
  },
  {
   "cell_type": "code",
   "execution_count": 24,
   "metadata": {},
   "outputs": [
    {
     "name": "stdout",
     "output_type": "stream",
     "text": [
      "value of var1 is 0\n",
      "value of var1 is 1\n",
      "value of var1 is 2\n",
      "value of var1 is 3\n",
      "value of var1 is 4\n",
      "value of var1 is 5\n",
      "value of var1 is 6\n",
      "value of var1 is 7\n",
      "value of var1 is 8\n",
      "value of var1 is 9\n"
     ]
    }
   ],
   "source": [
    "var1=0\n",
    "while var1<10:\n",
    "    print(\"value of var1 is\",var1)\n",
    "    var1 +=1"
   ]
  },
  {
   "cell_type": "code",
   "execution_count": 1,
   "metadata": {},
   "outputs": [
    {
     "name": "stdout",
     "output_type": "stream",
     "text": [
      "please enter the direction:north\n",
      "please enter the direction:east\n",
      "Are you not glad that you are out of the loop\n"
     ]
    }
   ],
   "source": [
    "available_exits=[\"east\",\"north east\",\"south\"]\n",
    "choosen_exit=''\n",
    "while choosen_exit not in available_exits:\n",
    "    choosen_exit=input('please enter the direction:')\n",
    "    if choosen_exit==\"quit\":\n",
    "        print(\"YOUR GAME IS OVER\")\n",
    "        break\n",
    "else:\n",
    "    print(\"Are you not glad that you are out of the loop\")"
   ]
  }
 ],
 "metadata": {
  "kernelspec": {
   "display_name": "Python 3",
   "language": "python",
   "name": "python3"
  },
  "language_info": {
   "codemirror_mode": {
    "name": "ipython",
    "version": 3
   },
   "file_extension": ".py",
   "mimetype": "text/x-python",
   "name": "python",
   "nbconvert_exporter": "python",
   "pygments_lexer": "ipython3",
   "version": "3.7.3"
  }
 },
 "nbformat": 4,
 "nbformat_minor": 2
}
