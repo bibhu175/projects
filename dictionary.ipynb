{
 "cells": [
  {
   "cell_type": "code",
   "execution_count": 2,
   "metadata": {},
   "outputs": [
    {
     "name": "stdout",
     "output_type": "stream",
     "text": [
      "<str_iterator object at 0x000001AB19B7E6A0>\n",
      "1\n"
     ]
    }
   ],
   "source": [
    "string=\"1234567890\"\n",
    "my_iterator=iter(string)\n",
    "print(my_iterator)\n",
    "print(next(my_iterator))"
   ]
  },
  {
   "cell_type": "code",
   "execution_count": 11,
   "metadata": {},
   "outputs": [
    {
     "name": "stdout",
     "output_type": "stream",
     "text": [
      "tue sun\n"
     ]
    }
   ],
   "source": [
    "my_list=[\"mon\",\"tue\",\"wed\",\"thu\",\"fri\",\"sat\",\"sun\"]\n",
    "my_iter=iter(my_list)\n",
    "for char in range(0,len(my_list)):\n",
    "    next_iter=next(my_iter)\n",
    "print(my_list[1],next_iter)"
   ]
  },
  {
   "cell_type": "code",
   "execution_count": 15,
   "metadata": {},
   "outputs": [
    {
     "name": "stdout",
     "output_type": "stream",
     "text": [
      "Ram\n",
      "M\n",
      "29\n"
     ]
    }
   ],
   "source": [
    "spam={\"name\":\"Ram\",\"Gender\":\"M\",\"Age\":\"29\"}\n",
    "for v in spam.values():\n",
    "    print(v)"
   ]
  },
  {
   "cell_type": "code",
   "execution_count": 16,
   "metadata": {},
   "outputs": [
    {
     "name": "stdout",
     "output_type": "stream",
     "text": [
      "name\n",
      "Gender\n",
      "Age\n"
     ]
    }
   ],
   "source": [
    "for k in spam.keys():\n",
    "    print(k)"
   ]
  },
  {
   "cell_type": "code",
   "execution_count": 17,
   "metadata": {},
   "outputs": [
    {
     "name": "stdout",
     "output_type": "stream",
     "text": [
      "('name', 'Ram')\n",
      "('Gender', 'M')\n",
      "('Age', '29')\n"
     ]
    }
   ],
   "source": [
    "for i in spam.items():\n",
    "    print(i)"
   ]
  },
  {
   "cell_type": "code",
   "execution_count": 2,
   "metadata": {},
   "outputs": [
    {
     "name": "stdout",
     "output_type": "stream",
     "text": [
      "enter the name:\n",
      "sam\n",
      "i do not have birthday info forsam\n",
      "what is their birthday?\n",
      "mar 15\n",
      "birthday database is updated\n",
      "enter the name:\n",
      "sam\n",
      "mar 15is birthday ofsam\n",
      "enter the name:\n",
      "rahul\n",
      "jan 1is birthday ofrahul\n",
      "enter the name:\n",
      " \n",
      "i do not have birthday info for \n",
      "what is their birthday?\n",
      "\n",
      "birthday database is updated\n",
      "enter the name:\n",
      "\n"
     ]
    }
   ],
   "source": [
    "birthdays={'rahul':'jan 1','vivek':'aprl 20','ram':'jan 1'}\n",
    "while True:\n",
    "    \n",
    "    print('enter the name:' )\n",
    "    name=input()\n",
    "    \n",
    "    if name =='':\n",
    "        break\n",
    "        \n",
    "    if name in birthdays:\n",
    "        print(birthdays[name] +'is birthday of' + name)\n",
    "        \n",
    "    else:\n",
    "            print('i do not have birthday info for' +  name)\n",
    "            print('what is their birthday?')\n",
    "            bday=input()\n",
    "            birthdays[name]=bday\n",
    "            print('birthday database is updated')\n",
    "    \n"
   ]
  },
  {
   "cell_type": "code",
   "execution_count": null,
   "metadata": {},
   "outputs": [],
   "source": []
  }
 ],
 "metadata": {
  "kernelspec": {
   "display_name": "Python 3",
   "language": "python",
   "name": "python3"
  },
  "language_info": {
   "codemirror_mode": {
    "name": "ipython",
    "version": 3
   },
   "file_extension": ".py",
   "mimetype": "text/x-python",
   "name": "python",
   "nbconvert_exporter": "python",
   "pygments_lexer": "ipython3",
   "version": "3.7.3"
  }
 },
 "nbformat": 4,
 "nbformat_minor": 2
}
