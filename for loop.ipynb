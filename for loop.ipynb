{
 "cells": [
  {
   "cell_type": "code",
   "execution_count": 3,
   "metadata": {},
   "outputs": [
    {
     "name": "stdout",
     "output_type": "stream",
     "text": [
      "who are you\n",
      "bh\n",
      "who are you\n",
      "Ram\n",
      "Hello Ram. What is your password 'It is a Fish'\n",
      "SwordFish\n",
      "Congrats!!!, Access Granted\n"
     ]
    }
   ],
   "source": [
    "while True:\n",
    "    print(\"who are you\")\n",
    "    name=input()\n",
    "    if name !='Ram':\n",
    "        continue\n",
    "      \n",
    "    print(\"Hello Ram. What is your password 'It is a Fish'\")\n",
    "    password = input()\n",
    "    if password==\"SwordFish\":\n",
    "        break\n",
    "print(\"Congrats!!!, Access Granted\")"
   ]
  },
  {
   "cell_type": "code",
   "execution_count": null,
   "metadata": {},
   "outputs": [],
   "source": [
    "number='9,223,455,356,001,998'\n",
    "for i in range(0,length(number)):\n",
    "    if number[i] in '0123456789'\n",
    "    print(number[i])"
   ]
  },
  {
   "cell_type": "code",
   "execution_count": null,
   "metadata": {},
   "outputs": [],
   "source": []
  },
  {
   "cell_type": "code",
   "execution_count": null,
   "metadata": {},
   "outputs": [],
   "source": []
  }
 ],
 "metadata": {
  "kernelspec": {
   "display_name": "Python 3",
   "language": "python",
   "name": "python3"
  },
  "language_info": {
   "codemirror_mode": {
    "name": "ipython",
    "version": 3
   },
   "file_extension": ".py",
   "mimetype": "text/x-python",
   "name": "python",
   "nbconvert_exporter": "python",
   "pygments_lexer": "ipython3",
   "version": "3.7.3"
  }
 },
 "nbformat": 4,
 "nbformat_minor": 2
}
